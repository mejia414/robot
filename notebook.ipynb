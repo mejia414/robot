{
 "cells": [
  {
   "cell_type": "code",
   "execution_count": 1,
   "metadata": {},
   "outputs": [],
   "source": [
    "#pip install - r requirements.txt"
   ]
  },
  {
   "cell_type": "code",
   "execution_count": 2,
   "metadata": {},
   "outputs": [],
   "source": [
    "import pandas as pd\n",
    "import numpy as np\n",
    "import glob\n",
    "\n",
    "from selenium import webdriver\n",
    "from selenium.webdriver.common.keys import Keys\n",
    "from selenium.webdriver.common.by import By\n",
    "\n",
    "from time import sleep\n",
    "from datetime import datetime\n",
    "\n",
    "import os\n",
    "from tqdm import tqdm"
   ]
  },
  {
   "cell_type": "code",
   "execution_count": 3,
   "metadata": {},
   "outputs": [],
   "source": [
    "def consultar(nit,driver):\n",
    "    #parametro consulta\n",
    "    url=\"https://muisca.dian.gov.co/WebRutMuisca/DefConsultaEstadoRUT.faces\"\n",
    "    args={}\n",
    "    args[\"DV\"]=\"vistaConsultaEstadoRUT:formConsultaEstadoRUT:dv\"\n",
    "    args[\"Primer Apellido\"]=\"vistaConsultaEstadoRUT:formConsultaEstadoRUT:primerApellido\"\n",
    "    args[\"Segundo Apellido\"]=\"vistaConsultaEstadoRUT:formConsultaEstadoRUT:segundoApellido\"\n",
    "    args[\"Primer Nombre\"]=\"vistaConsultaEstadoRUT:formConsultaEstadoRUT:primerNombre\"\n",
    "    args[\"Otros Nombres\"]=\"vistaConsultaEstadoRUT:formConsultaEstadoRUT:otrosNombres\"\n",
    "    args[\"Estado\"]=\"vistaConsultaEstadoRUT:formConsultaEstadoRUT:estado\"\n",
    "    args[\"Razon Social\"]=\"vistaConsultaEstadoRUT:formConsultaEstadoRUT:razonSocial\"\n",
    "\n",
    "\n",
    "    #consultar\n",
    "    driver.get(url)\n",
    "    sleep(0.5)\n",
    "    elem = driver.find_element(by=By.ID, value=\"vistaConsultaEstadoRUT:formConsultaEstadoRUT:numNit\")\n",
    "    elem.clear()\n",
    "    elem.send_keys(str(nit))\n",
    "    elem.send_keys(Keys.ENTER)\n",
    "    sleep(0.5)\n",
    "\n",
    "    record={}\n",
    "    record[\"NIT\"]=nit\n",
    "    record[\"Fecha\"]=datetime.today().strftime('%Y-%m-%d')\n",
    "\n",
    "    for key in args.keys():\n",
    "        try:\n",
    "            elem = driver.find_element(by=By.ID, value=args.get(key))\n",
    "            record[key]=elem.text\n",
    "        except:\n",
    "            continue\n",
    "    \n",
    "    df_tmp=pd.DataFrame([record])\n",
    "\n",
    "    file_path = os.path.join(\"data\", \"{x}.csv\".format(x=nit))\n",
    "    df_tmp.to_csv(file_path)\n",
    "\n",
    "    \n",
    "    return 1"
   ]
  },
  {
   "cell_type": "code",
   "execution_count": 4,
   "metadata": {},
   "outputs": [
    {
     "name": "stderr",
     "output_type": "stream",
     "text": [
      "100%|██████████| 9123/9123 [01:57<00:00, 77.89it/s]  \n"
     ]
    }
   ],
   "source": [
    "#cargar archivo\n",
    "file_path = os.path.join(\"templates\", \"TEMPLATE.csv\")\n",
    "df=pd.read_csv(file_path)\n",
    "\n",
    "#abrir entornos de consulta\n",
    "driver = webdriver.Firefox()\n",
    "\n",
    "#consultar DIAN\n",
    "for i in tqdm(range(df.shape[0])):\n",
    "    if (df.loc[i, 'DOWNLOAD']==0) & (df.loc[i, 'STATE']==1):\n",
    "        try:\n",
    "            df.loc[i, 'DOWNLOAD']=consultar(nit=str(df.loc[i, 'NIT']),driver=driver)\n",
    "            df.to_csv(file_path,index=False)\n",
    "        except:\n",
    "            continue\n",
    "\n",
    "#cerrar consulta\n",
    "driver.close()"
   ]
  },
  {
   "cell_type": "code",
   "execution_count": 5,
   "metadata": {},
   "outputs": [
    {
     "name": "stderr",
     "output_type": "stream",
     "text": [
      "100%|██████████| 87/87 [00:00<00:00, 402.85it/s]\n"
     ]
    }
   ],
   "source": [
    "data=[pd.read_csv(i,low_memory=False) for i in tqdm(glob.glob('data/*.csv'))]\n",
    "df=pd.concat(data).reset_index()\n",
    "df.to_csv(\"info.csv\",index=False)"
   ]
  }
 ],
 "metadata": {
  "interpreter": {
   "hash": "0cb140cab0f16f9ecb9556d1e29954eada8885b0ca1b8c27130043d9aedc3ec3"
  },
  "kernelspec": {
   "display_name": "Python 3.9.13 ('env': venv)",
   "language": "python",
   "name": "python3"
  },
  "language_info": {
   "codemirror_mode": {
    "name": "ipython",
    "version": 3
   },
   "file_extension": ".py",
   "mimetype": "text/x-python",
   "name": "python",
   "nbconvert_exporter": "python",
   "pygments_lexer": "ipython3",
   "version": "3.9.13"
  },
  "orig_nbformat": 4
 },
 "nbformat": 4,
 "nbformat_minor": 2
}
